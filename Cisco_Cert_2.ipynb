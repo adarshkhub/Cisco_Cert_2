{
  "nbformat": 4,
  "nbformat_minor": 0,
  "metadata": {
    "colab": {
      "provenance": []
    },
    "kernelspec": {
      "name": "python3",
      "display_name": "Python 3"
    },
    "language_info": {
      "name": "python"
    }
  },
  "cells": [
    {
      "cell_type": "code",
      "execution_count": null,
      "metadata": {
        "id": "JU8kCasNpbd9",
        "colab": {
          "base_uri": "https://localhost:8080/"
        },
        "outputId": "637838b7-876f-47a8-8af3-4581b5fb833c"
      },
      "outputs": [
        {
          "output_type": "stream",
          "name": "stdout",
          "text": [
            "ABC123xyx"
          ]
        }
      ],
      "source": [
        "#Question 1: What is the expected output of the following code?\n",
        "\n",
        "for ch in \"abc123XYX\":\n",
        "    if ch.isupper():\n",
        "        print(ch.lower(), end='')\n",
        "    elif ch.islower():\n",
        "        print(ch.upper(), end='')\n",
        "    else:\n",
        "        print(ch, end='')"
      ]
    },
    {
      "cell_type": "code",
      "source": [
        "ABC123xyx"
      ],
      "metadata": {
        "id": "G0AtDMNSo29m"
      },
      "execution_count": null,
      "outputs": []
    },
    {
      "cell_type": "code",
      "source": [
        "#Question 2: What is the expected output of the following code?\n",
        "\n",
        "s1 = 'Where are the snows of yesteryear?'\n",
        "s2 = s1.split()\n",
        "print(s2[-2])\n",
        "\n",
        " #of"
      ],
      "metadata": {
        "colab": {
          "base_uri": "https://localhost:8080/"
        },
        "id": "oMg_njXLqAMt",
        "outputId": "cb0a9a0f-64a3-4077-922f-ac893d0e222f"
      },
      "execution_count": null,
      "outputs": [
        {
          "output_type": "stream",
          "name": "stdout",
          "text": [
            "of\n"
          ]
        }
      ]
    },
    {
      "cell_type": "code",
      "source": [
        "#Question 3: What is the expected output of the following code?\n",
        "\n",
        "the_list = ['Where', 'are', 'the', 'snows?']\n",
        "s = '*'.join(the_list)\n",
        "print(s)\n"
      ],
      "metadata": {
        "colab": {
          "base_uri": "https://localhost:8080/"
        },
        "id": "W58CVRZuqx3X",
        "outputId": "6c85bbb9-fc49-4bf1-b605-f9b85c93a0a6"
      },
      "execution_count": null,
      "outputs": [
        {
          "output_type": "stream",
          "name": "stdout",
          "text": [
            "Where*are*the*snows?\n"
          ]
        }
      ]
    },
    {
      "cell_type": "code",
      "source": [
        "#Question 4: What is the expected output of the following code?\n",
        "\n",
        "s = 'It is either easy or impossible'\n",
        "s = s.replace('easy', 'hard').replace('im', '')\n",
        "print(s)\n"
      ],
      "metadata": {
        "colab": {
          "base_uri": "https://localhost:8080/"
        },
        "id": "i1o-ZL6prIh1",
        "outputId": "17021cf0-7eda-46e8-daca-ffa622c24882"
      },
      "execution_count": null,
      "outputs": [
        {
          "output_type": "stream",
          "name": "stdout",
          "text": [
            "It is either hard or possible\n"
          ]
        }
      ]
    },
    {
      "cell_type": "code",
      "source": [
        "# Create a function that basically functions like the split function\n",
        "\n",
        "def mysplit(strng):\n",
        "\n",
        "\n",
        "\n",
        "\n",
        "    # return [] if string is empty or contains whitespaces only\n",
        "\n",
        "    # prepare a list to return []\n",
        "\n",
        "    # prepare a word to build subsequent words  word = \"\"\n",
        "\n",
        "    # check if we are currently inside a word (i.e., if the string starts with a word)\n",
        "\n",
        "    # iterate through all the characters in the string\n",
        "\n",
        "        # if we are currently inside a string...\n",
        "\n",
        "            # ... and the current character is not a space...\n",
        "\n",
        "                # ... update the current word\n",
        "\n",
        "                # ... otherwise, we've reached the end of the word so we need to append it to the list...\n",
        "\n",
        "                # ... and signal the fact that we are outside the word now\n",
        "\n",
        "            # if we are outside the word and we've reached a non-white character...\n",
        "\n",
        "                # ... it means that a new word has begun so we need to remember it and...\n",
        "\n",
        "                # ... store the first letter of the new word\n",
        "\n",
        "                for i in word:\n",
        "                  list.append i\n",
        "\n",
        "    # if we've left the string and there is a non-empty string in the word, we need to update the list\n",
        "\n",
        "    # return the list to the invoker\n",
        "\n",
        "\n",
        "print(mysplit(\"To be or not to be, this is a question\"))\n",
        "print(mysplit(\"To be or not to be,this is a question\"))\n",
        "print(mysplit(\"   \"))\n",
        "print(mysplit(\" abc \"))\n",
        "print(mysplit(\"\"))\n"
      ],
      "metadata": {
        "id": "q7e_NylfrX0e"
      },
      "execution_count": null,
      "outputs": []
    },
    {
      "cell_type": "code",
      "source": [
        "strng = \"To be or not to be, this is a question\"\n",
        "\n",
        "def mysplit(strng):\n",
        "\n",
        "    splitlist = []\n",
        "    empty = []\n",
        "    word = \"\"\n",
        "\n",
        "    for i in strng:\n",
        "      if i startswith(\"\")\n",
        "      if i endswith(\"\")\n",
        "\n",
        "startswith(\" \")\n",
        "      #strng = \"\"\n",
        "    # return [] if string is empty or contains whitespaces only\n",
        "\n",
        "    # prepare a list to return\n",
        "\n",
        "    # prepare a word to build subsequent words\n",
        "\n",
        "    # check if we are currently inside a word (i.e., if the string starts with a word)\n",
        "\n",
        "    # iterate through all the characters in the string\n",
        "\n",
        "        # if we are currently inside a string...\n",
        "\n",
        "            # ... and the current character is not a space...\n",
        "\n",
        "                # ... update the current word\n",
        "\n",
        "                # ... otherwise, we've reached the end of the word so we need to append it to the list...\n",
        "\n",
        "                # ... and signal the fact that we are outside the word now\n",
        "\n",
        "            # if we are outside the word and we've reached a non-white character...\n",
        "\n",
        "                # ... it means that a new word has begun so we need to remember it and...\n",
        "\n",
        "                # ... store the first letter of the new word\n",
        "\n",
        "    # if we've left the string and there is a non-empty string in the word, we need to update the list\n",
        "\n",
        "    # return the list to the invoker\n",
        "\n",
        "\n",
        "print(mysplit(\"To be or not to be, this is a question\"))\n",
        "print(mysplit(\"To be or not to be,this is a question\"))\n",
        "print(mysplit(\"   \"))\n",
        "print(mysplit(\" abc \"))\n",
        "print(mysplit(\"\"))"
      ],
      "metadata": {
        "id": "dut_ogxeBTXe"
      },
      "execution_count": null,
      "outputs": []
    },
    {
      "cell_type": "code",
      "source": [
        "strng = \"to be or not to be\"\n",
        "two = \"\"\n",
        "\n",
        "for i in strng:\n",
        "\n",
        "\n",
        "\n",
        "\n",
        "\n",
        "\n"
      ],
      "metadata": {
        "colab": {
          "base_uri": "https://localhost:8080/"
        },
        "id": "SD81mSCCSnjv",
        "outputId": "5b63aa6b-7329-4ba3-b50e-ecae29c0faf4"
      },
      "execution_count": 11,
      "outputs": [
        {
          "output_type": "stream",
          "name": "stdout",
          "text": [
            "\n"
          ]
        }
      ]
    },
    {
      "cell_type": "code",
      "source": [],
      "metadata": {
        "id": "s0my3ROaDKTg"
      },
      "execution_count": null,
      "outputs": []
    }
  ]
}